{
 "cells": [
  {
   "cell_type": "code",
   "execution_count": 67,
   "id": "70b3f15f-0d81-41d4-b2b3-64708eb6ad00",
   "metadata": {
    "tags": []
   },
   "outputs": [
    {
     "name": "stdout",
     "output_type": "stream",
     "text": [
      "Resposta da API:\n",
      "{\"prediction\": [0, 0, 1], \"Resultado\": [\"Pagador\", \"Pagador\", \"Devedor\"]}\n"
     ]
    }
   ],
   "source": [
    "import requests\n",
    "import pandas as pd\n",
    "from sklearn.preprocessing import LabelEncoder\n",
    "\n",
    "# Carrega os dados\n",
    "df = pd.read_csv('C:/Users/F8084358/Desktop/FIAP/MLOPS/TRABALHO/Base/loan_default_client.csv')\n",
    "# Filtra alguns para testes:\n",
    "filtrados = df.sample(3)\n",
    "\n",
    "independentcols = ['year', 'loan_limit', 'Gender', 'Neg_ammortization', 'property_value', 'occupancy_type',\n",
    "       'credit_type', 'age', 'LTV', 'Region', 'Status']\n",
    "\n",
    "X = filtrados[independentcols].copy()\n",
    "\n",
    "\n",
    "# Preencha colunas categóricas com a moda\n",
    "categorical_cols = X.select_dtypes(include=['object']).columns\n",
    "for col in categorical_cols:\n",
    "    X[col].fillna(X[col].mode()[0], inplace=True)\n",
    "# Converta colunas categóricas em números usando Label Encoding\n",
    "encoder = LabelEncoder()\n",
    "for col in categorical_cols:\n",
    "    X[col] = encoder.fit_transform(X[col])\n",
    "\n",
    "# Prepara chamada\n",
    "url = \"http://localhost:8080/modelo_propensão_inadimplencia\"\n",
    "headers = {'Content-Type': 'application/json'}\n",
    "conteudo = X.to_json()\n",
    "#Chama API\n",
    "response = requests.request(\"POST\", url, headers=headers, data=conteudo)\n",
    "print(\"Resposta da API:\")\n",
    "print(response.text.encode('utf8').decode())\n",
    "pass"
   ]
  },
  {
   "cell_type": "code",
   "execution_count": 68,
   "id": "1100c44c-7f33-4a7b-bb1a-2f992094c3cf",
   "metadata": {},
   "outputs": [
    {
     "name": "stdout",
     "output_type": "stream",
     "text": [
      "Grupo: 1\n",
      "Propensão à Fraude Média: 5,539.88 obs: resultado da média da soma entre renda e Credt Score \n",
      "A Label desta pessoa é:  Diversificação Financeira\n"
     ]
    }
   ],
   "source": [
    "import requests\n",
    "import json\n",
    "\n",
    "# URL da API\n",
    "url = 'http://localhost:8080/modelo_cluster_prop_fraud'\n",
    "\n",
    "# Dados de entrada no formato JSON\n",
    "dados = {\n",
    "    'loan_amount': 10000,\n",
    "    'age': 35,\n",
    "    'income': 60000,\n",
    "    'Credit_Score': 700\n",
    "}\n",
    "\n",
    "# Converter dados em JSON\n",
    "data_json = json.dumps(data)\n",
    "\n",
    "# Definir cabeçalhos da solicitação\n",
    "headers = {'Content-Type': 'application/json'}\n",
    "\n",
    "# Enviar solicitação POST para a API\n",
    "response = requests.post(url, data=data_json, headers=headers)\n",
    "\n",
    "# Verificar a resposta da API\n",
    "if response.status_code == 200:\n",
    "    resultado = response.json()\n",
    "    print(\"Grupo:\", resultado['grupo'])\n",
    "    print(\"Propensão à Fraude Média:\", resultado['propensao_media_fraude'])\n",
    "    print(\"A Label desta pessoa é: \", resultado['label'])\n",
    "else:\n",
    "    print(\"Erro na chamada da API:\", response.status_code, response.text)\n"
   ]
  }
 ],
 "metadata": {
  "kernelspec": {
   "display_name": "Python 3 (ipykernel)",
   "language": "python",
   "name": "python3"
  },
  "language_info": {
   "codemirror_mode": {
    "name": "ipython",
    "version": 3
   },
   "file_extension": ".py",
   "mimetype": "text/x-python",
   "name": "python",
   "nbconvert_exporter": "python",
   "pygments_lexer": "ipython3",
   "version": "3.10.9"
  }
 },
 "nbformat": 4,
 "nbformat_minor": 5
}
